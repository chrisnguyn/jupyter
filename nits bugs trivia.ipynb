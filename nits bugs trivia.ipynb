{
 "cells": [
  {
   "cell_type": "code",
   "execution_count": 2,
   "id": "4bfb7287",
   "metadata": {},
   "outputs": [],
   "source": [
    "\"\"\"\n",
    "LC 1346 - https://leetcode.com/problems/check-if-n-and-its-double-exist\n",
    "\n",
    "one small bug i had - there's a very subtle difference between:\n",
    "\n",
    "'if num == 0 and values[num] > 1'\n",
    "\n",
    "vs\n",
    "\n",
    "'if num == 0, nested if values[num] > 1'\n",
    "\"\"\"\n",
    "\n",
    "class Solution:\n",
    "    def checkIfExist(self, arr: List[int]) -> bool:\n",
    "        values = Counter(arr)\n",
    "\n",
    "        for num in arr:\n",
    "            if num == 0:\n",
    "                if values[num] > 1:\n",
    "                    return True\n",
    "            elif num * 2 in values:\n",
    "                return True\n",
    "        \n",
    "        return False"
   ]
  },
  {
   "cell_type": "code",
   "execution_count": 3,
   "id": "54cedd10",
   "metadata": {},
   "outputs": [
    {
     "ename": "SyntaxError",
     "evalue": "invalid syntax (1857967846.py, line 12)",
     "output_type": "error",
     "traceback": [
      "\u001b[0;36m  Cell \u001b[0;32mIn[3], line 12\u001b[0;36m\u001b[0m\n\u001b[0;31m    print(if a)\u001b[0m\n\u001b[0m          ^\u001b[0m\n\u001b[0;31mSyntaxError\u001b[0m\u001b[0;31m:\u001b[0m invalid syntax\n"
     ]
    }
   ],
   "source": [
    "\"\"\"\n",
    "things can be falsy\n",
    "\n",
    "e.g. an empty array is falsy, an integer can be falsy (but ONLY if it's 0. negatives count as true)\n",
    "\"\"\"\n",
    "\n",
    "a = []\n",
    "b = [1]\n",
    "x = 0\n",
    "y = -1\n",
    "\n",
    "print(if a)"
   ]
  },
  {
   "cell_type": "code",
   "execution_count": null,
   "id": "1855d3bf",
   "metadata": {},
   "outputs": [],
   "source": []
  }
 ],
 "metadata": {
  "kernelspec": {
   "display_name": "Python 3 (ipykernel)",
   "language": "python",
   "name": "python3"
  },
  "language_info": {
   "codemirror_mode": {
    "name": "ipython",
    "version": 3
   },
   "file_extension": ".py",
   "mimetype": "text/x-python",
   "name": "python",
   "nbconvert_exporter": "python",
   "pygments_lexer": "ipython3",
   "version": "3.9.6"
  }
 },
 "nbformat": 4,
 "nbformat_minor": 5
}
