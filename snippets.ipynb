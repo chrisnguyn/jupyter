{
 "cells": [
  {
   "cell_type": "code",
   "execution_count": 6,
   "id": "c4bf3353",
   "metadata": {},
   "outputs": [
    {
     "name": "stdout",
     "output_type": "stream",
     "text": [
      "0 95\n",
      "1 51\n",
      "2 9\n",
      "3 56\n",
      "4 58\n",
      "5 76\n",
      "6 5\n",
      "7 25\n",
      "8 78\n",
      "9 8\n"
     ]
    }
   ],
   "source": [
    "\"\"\"\n",
    "enumerate over a collection (strings, lists)\n",
    "\"\"\"\n",
    "\n",
    "from random import randint\n",
    "\n",
    "\n",
    "nums = [randint(0, 100) for _ in range(10)]\n",
    "    \n",
    "for index, value in enumerate(nums):\n",
    "    print(index, value)"
   ]
  },
  {
   "cell_type": "code",
   "execution_count": 11,
   "id": "00a0600b",
   "metadata": {},
   "outputs": [
    {
     "name": "stdout",
     "output_type": "stream",
     "text": [
      "30\n"
     ]
    }
   ],
   "source": [
    "\"\"\"\n",
    "dict.keys()\n",
    "dict.values()\n",
    "dict.items()\n",
    "\"\"\"\n",
    "\n",
    "dic = {\n",
    "    'A' : 10,\n",
    "    'B' : 20,\n",
    "    'C' : 30\n",
    "}\n",
    "\n",
    "x = dic.items()  # array of [(key, value)]\n",
    "\n",
    "y = sorted(dic.items(), key=lambda x : x[1], reverse=True)  # sort by value instead of key, reversed, first element\n",
    "\n",
    "print(y[0][1])"
   ]
  },
  {
   "cell_type": "code",
   "execution_count": 13,
   "id": "2608fadd",
   "metadata": {},
   "outputs": [
    {
     "name": "stdout",
     "output_type": "stream",
     "text": [
      "10\n",
      "20\n",
      "30\n",
      "40\n",
      "50\n",
      "deque([60])\n"
     ]
    }
   ],
   "source": [
    "\"\"\"\n",
    "queue package\n",
    "\"\"\"\n",
    "\n",
    "from collections import deque\n",
    "\n",
    "\n",
    "queue = deque([10, 20, 30, 40, 50])\n",
    "\n",
    "while queue:\n",
    "    print(queue.popleft())\n",
    "    \n",
    "queue.append(60)\n",
    "\n",
    "print(queue)"
   ]
  },
  {
   "cell_type": "code",
   "execution_count": 16,
   "id": "412da0d7",
   "metadata": {},
   "outputs": [
    {
     "name": "stdout",
     "output_type": "stream",
     "text": [
      "92\n",
      "79\n",
      "75\n",
      "67\n",
      "58\n",
      "53\n",
      "47\n",
      "36\n",
      "24\n",
      "9\n"
     ]
    }
   ],
   "source": [
    "\"\"\"\n",
    "heap package\n",
    "\"\"\"\n",
    "\n",
    "from heapq import *\n",
    "from random import randint\n",
    "\n",
    "\n",
    "array = [randint(0, 100) for _ in range(10)]\n",
    "temp = array.copy()\n",
    "\n",
    "min_heap = heapify(array)  # default minheap, heapify is faster than building it manually\n",
    "max_heap = []\n",
    "\n",
    "for val in array:\n",
    "    heappush(max_heap, -val)\n",
    "    \n",
    "while max_heap:\n",
    "    print(-heappop(max_heap))"
   ]
  },
  {
   "cell_type": "code",
   "execution_count": null,
   "id": "33881836",
   "metadata": {},
   "outputs": [],
   "source": []
  }
 ],
 "metadata": {
  "kernelspec": {
   "display_name": "Python 3 (ipykernel)",
   "language": "python",
   "name": "python3"
  },
  "language_info": {
   "codemirror_mode": {
    "name": "ipython",
    "version": 3
   },
   "file_extension": ".py",
   "mimetype": "text/x-python",
   "name": "python",
   "nbconvert_exporter": "python",
   "pygments_lexer": "ipython3",
   "version": "3.9.6"
  }
 },
 "nbformat": 4,
 "nbformat_minor": 5
}
